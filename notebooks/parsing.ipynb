{
 "cells": [
  {
   "cell_type": "code",
   "execution_count": 143,
   "metadata": {},
   "outputs": [],
   "source": [
    "import spacy\n",
    "import pickle\n",
    "import random\n",
    "import json"
   ]
  },
  {
   "cell_type": "code",
   "execution_count": 144,
   "metadata": {},
   "outputs": [],
   "source": [
    "import json\n",
    "\n",
    "# Load JSON data from file\n",
    "with open(\"data/train_data (2).json\", \"r\") as json_file:\n",
    "    json_data = json.load(json_file)\n",
    "\n",
    "# Extract text and annotations from each entry\n",
    "train_data = []\n",
    "for entry in json_data:\n",
    "    text = entry[0]  # Extract text from the first element of the entry list\n",
    "    annotations = entry[1][\"entities\"]  # Extract annotations from the \"entities\" key of the second element\n",
    "    train_data.append((text, {\"entities\": annotations}))\n",
    "\n"
   ]
  },
  {
   "cell_type": "code",
   "execution_count": 145,
   "metadata": {},
   "outputs": [
    {
     "name": "stdout",
     "output_type": "stream",
     "text": [
      "('Govardhana K Senior Software Engineer  Bengaluru, Karnataka, Karnataka - Email me on Indeed: indeed.com/r/Govardhana-K/ b2de315d95905b68  Total IT experience 5 Years 6 Months Cloud Lending Solutions INC 4 Month • Salesforce Developer Oracle 5 Years 2 Month • Core Java Developer Languages Core Java, Go Lang Oracle PL-SQL programming, Sales Force Developer with APEX.  Designations & Promotions  Willing to relocate: Anywhere  WORK EXPERIENCE  Senior Software Engineer  Cloud Lending Solutions -  Bangalore, Karnataka -  January 2018 to Present  Present  Senior Consultant  Oracle -  Bangalore, Karnataka -  November 2016 to December 2017  Staff Consultant  Oracle -  Bangalore, Karnataka -  January 2014 to October 2016  Associate Consultant  Oracle -  Bangalore, Karnataka -  November 2012 to December 2013  EDUCATION  B.E in Computer Science Engineering  Adithya Institute of Technology -  Tamil Nadu  September 2008 to June 2012  https://www.indeed.com/r/Govardhana-K/b2de315d95905b68?isid=rex-download&ikw=download-top&co=IN https://www.indeed.com/r/Govardhana-K/b2de315d95905b68?isid=rex-download&ikw=download-top&co=IN   SKILLS  APEX. (Less than 1 year), Data Structures (3 years), FLEXCUBE (5 years), Oracle (5 years), Algorithms (3 years)  LINKS  https://www.linkedin.com/in/govardhana-k-61024944/  ADDITIONAL INFORMATION  Technical Proficiency:  Languages: Core Java, Go Lang, Data Structures & Algorithms, Oracle PL-SQL programming, Sales Force with APEX. Tools: RADTool, Jdeveloper, NetBeans, Eclipse, SQL developer, PL/SQL Developer, WinSCP, Putty Web Technologies: JavaScript, XML, HTML, Webservice  Operating Systems: Linux, Windows Version control system SVN & Git-Hub Databases: Oracle Middleware: Web logic, OC4J Product FLEXCUBE: Oracle FLEXCUBE Versions 10.x, 11.x and 12.x  https://www.linkedin.com/in/govardhana-k-61024944/', {'entities': [[1749, 1755, 'Companies worked at'], [1696, 1702, 'Companies worked at'], [1417, 1423, 'Companies worked at'], [1356, 1793, 'Skills'], [1209, 1215, 'Companies worked at'], [1136, 1247, 'Skills'], [928, 932, 'Graduation Year'], [858, 889, 'College Name'], [821, 856, 'Degree'], [787, 791, 'Graduation Year'], [744, 750, 'Companies worked at'], [722, 742, 'Designation'], [658, 664, 'Companies worked at'], [640, 656, 'Designation'], [574, 580, 'Companies worked at'], [555, 572, 'Designation'], [470, 493, 'Companies worked at'], [444, 468, 'Designation'], [308, 314, 'Companies worked at'], [234, 240, 'Companies worked at'], [175, 198, 'Companies worked at'], [93, 136, 'Email Address'], [39, 48, 'Location'], [13, 37, 'Designation'], [0, 12, 'Name']]})\n"
     ]
    }
   ],
   "source": [
    "print(train_data[0])"
   ]
  },
  {
   "cell_type": "code",
   "execution_count": 146,
   "metadata": {},
   "outputs": [],
   "source": [
    "nlp = spacy.blank('en')\n",
    "\n",
    "def train_model(train_data):\n",
    "    if 'ner' not in nlp.pipe_names:\n",
    "        ner = nlp.create_pipe('ner')\n",
    "        nlp.add_pipe(ner, last = True)\n",
    "    \n",
    "    for _, annotation in train_data:\n",
    "        for ent in annotation['entities']:\n",
    "            ner.add_label(ent[2])\n",
    "            \n",
    "    \n",
    "    other_pipes = [pipe for pipe in nlp.pipe_names if pipe != 'ner']\n",
    "    with nlp.disable_pipes(*other_pipes):  # only train NER\n",
    "        optimizer = nlp.begin_training()\n",
    "        for itn in range(10):\n",
    "            print(\"Starting iteration \" + str(itn))\n",
    "            random.shuffle(train_data)\n",
    "            losses = {}\n",
    "            index = 0\n",
    "            for text, annotations in train_data:\n",
    "                try:\n",
    "                    nlp.update(\n",
    "                        [text],  # batch of texts\n",
    "                        [annotations],  # batch of annotations\n",
    "                        drop=0.2,  # dropout - make it harder to memorise data\n",
    "                        sgd=optimizer,  # callable to update weights\n",
    "                        losses=losses)\n",
    "                except Exception as e:\n",
    "                    pass\n",
    "                \n",
    "            print(losses)\n",
    "\n"
   ]
  },
  {
   "cell_type": "code",
   "execution_count": 147,
   "metadata": {},
   "outputs": [
    {
     "name": "stdout",
     "output_type": "stream",
     "text": [
      "[[587, 669, 'Skills'], [512, 553, 'College Name'], [503, 510, 'Degree'], [177, 193, 'Designation'], [34, 58, 'Companies worked at'], [14, 30, 'Designation'], [0, 13, 'Name']]\n"
     ]
    }
   ],
   "source": [
    "print(annotations)\n"
   ]
  },
  {
   "cell_type": "code",
   "execution_count": 148,
   "metadata": {},
   "outputs": [
    {
     "name": "stderr",
     "output_type": "stream",
     "text": [
      "c:\\desktop file\\job_counselor\\venv\\lib\\site-packages\\spacy\\language.py:635: UserWarning: [W033] Training a new parser or NER using a model with an empty lexeme normalization table. This may degrade the performance to some degree. If this is intentional or this language doesn't have a normalization table, please ignore this warning.\n",
      "  proc.begin_training(\n",
      "c:\\desktop file\\job_counselor\\venv\\lib\\site-packages\\spacy\\language.py:635: UserWarning: [W034] Please install the package spacy-lookups-data in order to include the default lexeme normalization table for the language 'en'.\n",
      "  proc.begin_training(\n"
     ]
    },
    {
     "name": "stdout",
     "output_type": "stream",
     "text": [
      "Statring iteration 0\n"
     ]
    },
    {
     "name": "stderr",
     "output_type": "stream",
     "text": [
      "c:\\desktop file\\job_counselor\\venv\\lib\\site-packages\\spacy\\language.py:482: UserWarning: [W030] Some entities could not be aligned in the text \"Jacob Philip Kottayam, Kerala - Email me on Indeed...\" with entities \"[[2165, 2214, 'Skills'], [2145, 2155, 'Degree'], [...\". Use `spacy.gold.biluo_tags_from_offsets(nlp.make_doc(text), entities)` to check the alignment. Misaligned entities (with BILUO tag '-') will be ignored during training.\n",
      "  gold = GoldParse(doc, **gold)\n",
      "c:\\desktop file\\job_counselor\\venv\\lib\\site-packages\\spacy\\language.py:482: UserWarning: [W030] Some entities could not be aligned in the text \"Karthik Gururaj Technical Lead at Infosys Ltd. - P...\" with entities \"[[2814, 2839, 'Degree'], [2773, 2812, 'Degree'], [...\". Use `spacy.gold.biluo_tags_from_offsets(nlp.make_doc(text), entities)` to check the alignment. Misaligned entities (with BILUO tag '-') will be ignored during training.\n",
      "  gold = GoldParse(doc, **gold)\n",
      "c:\\desktop file\\job_counselor\\venv\\lib\\site-packages\\spacy\\language.py:482: UserWarning: [W030] Some entities could not be aligned in the text \"Divesh Singh Bengaluru, Karnataka - Email me on In...\" with entities \"[[948, 1180, 'Skills'], [833, 845, 'College Name']...\". Use `spacy.gold.biluo_tags_from_offsets(nlp.make_doc(text), entities)` to check the alignment. Misaligned entities (with BILUO tag '-') will be ignored during training.\n",
      "  gold = GoldParse(doc, **gold)\n",
      "c:\\desktop file\\job_counselor\\venv\\lib\\site-packages\\spacy\\language.py:482: UserWarning: [W030] Some entities could not be aligned in the text \"Pavithra M \"Infosys\" internship  Bengaluru, Karnat...\" with entities \"[[998, 1038, 'Email Address'], [611, 984, 'Skills'...\". Use `spacy.gold.biluo_tags_from_offsets(nlp.make_doc(text), entities)` to check the alignment. Misaligned entities (with BILUO tag '-') will be ignored during training.\n",
      "  gold = GoldParse(doc, **gold)\n",
      "c:\\desktop file\\job_counselor\\venv\\lib\\site-packages\\spacy\\language.py:482: UserWarning: [W030] Some entities could not be aligned in the text \"Dilliraja Baskaran Tamil Nadu - Email me on Indeed...\" with entities \"[[363, 411, 'Email Address'], [314, 349, 'Skills']...\". Use `spacy.gold.biluo_tags_from_offsets(nlp.make_doc(text), entities)` to check the alignment. Misaligned entities (with BILUO tag '-') will be ignored during training.\n",
      "  gold = GoldParse(doc, **gold)\n",
      "c:\\desktop file\\job_counselor\\venv\\lib\\site-packages\\spacy\\language.py:482: UserWarning: [W030] Some entities could not be aligned in the text \"Sameer Kujur Orrisha - Email me on Indeed: indeed....\" with entities \"[[265, 307, 'Email Address'], [210, 251, 'Skills']...\". Use `spacy.gold.biluo_tags_from_offsets(nlp.make_doc(text), entities)` to check the alignment. Misaligned entities (with BILUO tag '-') will be ignored during training.\n",
      "  gold = GoldParse(doc, **gold)\n",
      "c:\\desktop file\\job_counselor\\venv\\lib\\site-packages\\spacy\\language.py:482: UserWarning: [W030] Some entities could not be aligned in the text \"Rupesh Reddy Technology Consultant - EIT Services ...\" with entities \"[[6732, 6848, 'Skills'], [6703, 6705, 'Graduation ...\". Use `spacy.gold.biluo_tags_from_offsets(nlp.make_doc(text), entities)` to check the alignment. Misaligned entities (with BILUO tag '-') will be ignored during training.\n",
      "  gold = GoldParse(doc, **gold)\n",
      "c:\\desktop file\\job_counselor\\venv\\lib\\site-packages\\spacy\\language.py:482: UserWarning: [W030] Some entities could not be aligned in the text \"Jatin Arora SDET Automation Engineer, Infosys - CR...\" with entities \"[[3909, 3931, 'College Name'], [3883, 3907, 'Degre...\". Use `spacy.gold.biluo_tags_from_offsets(nlp.make_doc(text), entities)` to check the alignment. Misaligned entities (with BILUO tag '-') will be ignored during training.\n",
      "  gold = GoldParse(doc, **gold)\n",
      "c:\\desktop file\\job_counselor\\venv\\lib\\site-packages\\spacy\\language.py:482: UserWarning: [W030] Some entities could not be aligned in the text \"Suresh Kanagala Architecture SharePoint/Office 365...\" with entities \"[[1171, 1573, 'Skills'], [962, 1095, 'Skills'], [9...\". Use `spacy.gold.biluo_tags_from_offsets(nlp.make_doc(text), entities)` to check the alignment. Misaligned entities (with BILUO tag '-') will be ignored during training.\n",
      "  gold = GoldParse(doc, **gold)\n",
      "c:\\desktop file\\job_counselor\\venv\\lib\\site-packages\\spacy\\language.py:482: UserWarning: [W030] Some entities could not be aligned in the text \"Imgeeyaul Ansari java developer  Pune, Maharashtra...\" with entities \"[[1894, 2173, 'Skills'], [1726, 1850, 'Skills'], [...\". Use `spacy.gold.biluo_tags_from_offsets(nlp.make_doc(text), entities)` to check the alignment. Misaligned entities (with BILUO tag '-') will be ignored during training.\n",
      "  gold = GoldParse(doc, **gold)\n",
      "c:\\desktop file\\job_counselor\\venv\\lib\\site-packages\\spacy\\language.py:482: UserWarning: [W030] Some entities could not be aligned in the text \"Pankaj Bhosale Microsoft SQL-SERVER  Dhule, Mahara...\" with entities \"[[1482, 1487, 'Location'], [1369, 1413, 'Email Add...\". Use `spacy.gold.biluo_tags_from_offsets(nlp.make_doc(text), entities)` to check the alignment. Misaligned entities (with BILUO tag '-') will be ignored during training.\n",
      "  gold = GoldParse(doc, **gold)\n",
      "c:\\desktop file\\job_counselor\\venv\\lib\\site-packages\\spacy\\language.py:482: UserWarning: [W030] Some entities could not be aligned in the text \"Koushik Katta Devops  Hyderabad, Telangana - Email...\" with entities \"[[2957, 3073, 'Skills'], [2943, 2947, 'Graduation ...\". Use `spacy.gold.biluo_tags_from_offsets(nlp.make_doc(text), entities)` to check the alignment. Misaligned entities (with BILUO tag '-') will be ignored during training.\n",
      "  gold = GoldParse(doc, **gold)\n",
      "c:\\desktop file\\job_counselor\\venv\\lib\\site-packages\\spacy\\language.py:482: UserWarning: [W030] Some entities could not be aligned in the text \"Jaspreet Kaur Oceanic Consultants as a HR Executiv...\" with entities \"[[5670, 5780, 'Skills'], [462, 481, 'Designation']...\". Use `spacy.gold.biluo_tags_from_offsets(nlp.make_doc(text), entities)` to check the alignment. Misaligned entities (with BILUO tag '-') will be ignored during training.\n",
      "  gold = GoldParse(doc, **gold)\n",
      "c:\\desktop file\\job_counselor\\venv\\lib\\site-packages\\spacy\\language.py:482: UserWarning: [W030] Some entities could not be aligned in the text \"Karthik G V Program Manager, Product Manager, Prod...\" with entities \"[[1750, 1759, 'Companies worked at'], [1467, 1476,...\". Use `spacy.gold.biluo_tags_from_offsets(nlp.make_doc(text), entities)` to check the alignment. Misaligned entities (with BILUO tag '-') will be ignored during training.\n",
      "  gold = GoldParse(doc, **gold)\n",
      "c:\\desktop file\\job_counselor\\venv\\lib\\site-packages\\spacy\\language.py:482: UserWarning: [W030] Some entities could not be aligned in the text \"Chaban kumar Debbarma Tripura - Email me on Indeed...\" with entities \"[[277, 328, 'Email Address'], [257, 263, 'College ...\". Use `spacy.gold.biluo_tags_from_offsets(nlp.make_doc(text), entities)` to check the alignment. Misaligned entities (with BILUO tag '-') will be ignored during training.\n",
      "  gold = GoldParse(doc, **gold)\n",
      "c:\\desktop file\\job_counselor\\venv\\lib\\site-packages\\spacy\\language.py:482: UserWarning: [W030] Some entities could not be aligned in the text \"Sharan Adla - Email me on Indeed: indeed.com/r/Sha...\" with entities \"[[2421, 2450, 'College Name'], [2416, 2419, 'Degre...\". Use `spacy.gold.biluo_tags_from_offsets(nlp.make_doc(text), entities)` to check the alignment. Misaligned entities (with BILUO tag '-') will be ignored during training.\n",
      "  gold = GoldParse(doc, **gold)\n",
      "c:\\desktop file\\job_counselor\\venv\\lib\\site-packages\\spacy\\language.py:482: UserWarning: [W030] Some entities could not be aligned in the text \"Yogesh Ghatole Engineer / Electrical Supervisor, S...\" with entities \"[[2912, 3288, 'Skills'], [2721, 2726, 'UNKNOWN'], ...\". Use `spacy.gold.biluo_tags_from_offsets(nlp.make_doc(text), entities)` to check the alignment. Misaligned entities (with BILUO tag '-') will be ignored during training.\n",
      "  gold = GoldParse(doc, **gold)\n",
      "c:\\desktop file\\job_counselor\\venv\\lib\\site-packages\\spacy\\language.py:482: UserWarning: [W030] Some entities could not be aligned in the text \"Aarti Pimplay Operations Center Shift Manager (OCS...\" with entities \"[[3054, 3363, 'Skills'], [2333, 2339, 'Companies w...\". Use `spacy.gold.biluo_tags_from_offsets(nlp.make_doc(text), entities)` to check the alignment. Misaligned entities (with BILUO tag '-') will be ignored during training.\n",
      "  gold = GoldParse(doc, **gold)\n",
      "c:\\desktop file\\job_counselor\\venv\\lib\\site-packages\\spacy\\language.py:482: UserWarning: [W030] Some entities could not be aligned in the text \"Arpit Godha Senior Process Executive  Jaipur, Raja...\" with entities \"[[3144, 3495, 'Skills'], [3081, 3104, 'College Nam...\". Use `spacy.gold.biluo_tags_from_offsets(nlp.make_doc(text), entities)` to check the alignment. Misaligned entities (with BILUO tag '-') will be ignored during training.\n",
      "  gold = GoldParse(doc, **gold)\n",
      "c:\\desktop file\\job_counselor\\venv\\lib\\site-packages\\spacy\\language.py:482: UserWarning: [W030] Some entities could not be aligned in the text \"Ajay Elango Software Engineer  Bangalore City, Kar...\" with entities \"[[6930, 7494, 'Skills'], [6845, 6874, 'College Nam...\". Use `spacy.gold.biluo_tags_from_offsets(nlp.make_doc(text), entities)` to check the alignment. Misaligned entities (with BILUO tag '-') will be ignored during training.\n",
      "  gold = GoldParse(doc, **gold)\n",
      "c:\\desktop file\\job_counselor\\venv\\lib\\site-packages\\spacy\\language.py:482: UserWarning: [W030] Some entities could not be aligned in the text \"Srushti Bhadale Mumbai, Maharashtra - Email me on ...\" with entities \"[[1551, 1852, 'Skills'], [1454, 1499, 'Email Addre...\". Use `spacy.gold.biluo_tags_from_offsets(nlp.make_doc(text), entities)` to check the alignment. Misaligned entities (with BILUO tag '-') will be ignored during training.\n",
      "  gold = GoldParse(doc, **gold)\n",
      "c:\\desktop file\\job_counselor\\venv\\lib\\site-packages\\spacy\\language.py:482: UserWarning: [W030] Some entities could not be aligned in the text \"Soumya Balan IT SUPPORT  Sulthan Bathery, Kerala, ...\" with entities \"[[3913, 4370, 'Skills'], [3884, 3880, 'Graduation ...\". Use `spacy.gold.biluo_tags_from_offsets(nlp.make_doc(text), entities)` to check the alignment. Misaligned entities (with BILUO tag '-') will be ignored during training.\n",
      "  gold = GoldParse(doc, **gold)\n",
      "c:\\desktop file\\job_counselor\\venv\\lib\\site-packages\\spacy\\language.py:482: UserWarning: [W030] Some entities could not be aligned in the text \"Ravi Shankar Working as Escalation Engineer with M...\" with entities \"[[4016, 4025, 'Companies worked at'], [3941, 3950,...\". Use `spacy.gold.biluo_tags_from_offsets(nlp.make_doc(text), entities)` to check the alignment. Misaligned entities (with BILUO tag '-') will be ignored during training.\n",
      "  gold = GoldParse(doc, **gold)\n",
      "c:\\desktop file\\job_counselor\\venv\\lib\\site-packages\\spacy\\language.py:482: UserWarning: [W030] Some entities could not be aligned in the text \"Fenil Francis head of operation and logistics  Tri...\" with entities \"[[774, 897, 'Skills'], [694, 728, 'Skills'], [648,...\". Use `spacy.gold.biluo_tags_from_offsets(nlp.make_doc(text), entities)` to check the alignment. Misaligned entities (with BILUO tag '-') will be ignored during training.\n",
      "  gold = GoldParse(doc, **gold)\n",
      "c:\\desktop file\\job_counselor\\venv\\lib\\site-packages\\spacy\\language.py:482: UserWarning: [W030] Some entities could not be aligned in the text \"Nidhi Pandit Test Engineer - Infosys Limited  - Em...\" with entities \"[[3132, 3611, 'Skills'], [3005, 3082, 'Skills'], [...\". Use `spacy.gold.biluo_tags_from_offsets(nlp.make_doc(text), entities)` to check the alignment. Misaligned entities (with BILUO tag '-') will be ignored during training.\n",
      "  gold = GoldParse(doc, **gold)\n",
      "c:\\desktop file\\job_counselor\\venv\\lib\\site-packages\\spacy\\language.py:482: UserWarning: [W030] Some entities could not be aligned in the text \"Chhaya Prabhale Kharadi, Pune, 411014, IN - Email ...\" with entities \"[[1943, 2050, 'Skills'], [478, 488, 'Designation']...\". Use `spacy.gold.biluo_tags_from_offsets(nlp.make_doc(text), entities)` to check the alignment. Misaligned entities (with BILUO tag '-') will be ignored during training.\n",
      "  gold = GoldParse(doc, **gold)\n",
      "c:\\desktop file\\job_counselor\\venv\\lib\\site-packages\\spacy\\language.py:482: UserWarning: [W030] Some entities could not be aligned in the text \"Nitin Tr PeopleSoft Consultant  Bangalore Urban, K...\" with entities \"[[3511, 3749, 'Skills'], [3313, 3364, 'Skills'], [...\". Use `spacy.gold.biluo_tags_from_offsets(nlp.make_doc(text), entities)` to check the alignment. Misaligned entities (with BILUO tag '-') will be ignored during training.\n",
      "  gold = GoldParse(doc, **gold)\n",
      "c:\\desktop file\\job_counselor\\venv\\lib\\site-packages\\spacy\\language.py:482: UserWarning: [W030] Some entities could not be aligned in the text \"Puneeth R Escalation Specialist - HiPower Support ...\" with entities \"[[2182, 2210, 'College Name'], [2177, 2180, 'Degre...\". Use `spacy.gold.biluo_tags_from_offsets(nlp.make_doc(text), entities)` to check the alignment. Misaligned entities (with BILUO tag '-') will be ignored during training.\n",
      "  gold = GoldParse(doc, **gold)\n",
      "c:\\desktop file\\job_counselor\\venv\\lib\\site-packages\\spacy\\language.py:482: UserWarning: [W030] Some entities could not be aligned in the text \"amarjyot sodhi Voice and Accent Trainer :Masters i...\" with entities \"[[1130, 1174, 'Email Address'], [1112, 1116, 'Grad...\". Use `spacy.gold.biluo_tags_from_offsets(nlp.make_doc(text), entities)` to check the alignment. Misaligned entities (with BILUO tag '-') will be ignored during training.\n",
      "  gold = GoldParse(doc, **gold)\n",
      "c:\\desktop file\\job_counselor\\venv\\lib\\site-packages\\spacy\\language.py:482: UserWarning: [W030] Some entities could not be aligned in the text \"Arpit Jain Quality Analyst - ThoughtWorks Technolo...\" with entities \"[[2301, 2380, 'Skills'], [2088, 2131, 'College Nam...\". Use `spacy.gold.biluo_tags_from_offsets(nlp.make_doc(text), entities)` to check the alignment. Misaligned entities (with BILUO tag '-') will be ignored during training.\n",
      "  gold = GoldParse(doc, **gold)\n",
      "c:\\desktop file\\job_counselor\\venv\\lib\\site-packages\\spacy\\language.py:482: UserWarning: [W030] Some entities could not be aligned in the text \"Keshav Dhawale 3 TCS Security guard Access Control...\" with entities \"[[971, 1015, 'Email Address'], [877, 895, 'College...\". Use `spacy.gold.biluo_tags_from_offsets(nlp.make_doc(text), entities)` to check the alignment. Misaligned entities (with BILUO tag '-') will be ignored during training.\n",
      "  gold = GoldParse(doc, **gold)\n",
      "c:\\desktop file\\job_counselor\\venv\\lib\\site-packages\\spacy\\language.py:482: UserWarning: [W030] Some entities could not be aligned in the text \"Akshay Dubey Actively looking for opportunity in ....\" with entities \"[[2889, 3087, 'Skills'], [2734, 2846, 'Skills'], [...\". Use `spacy.gold.biluo_tags_from_offsets(nlp.make_doc(text), entities)` to check the alignment. Misaligned entities (with BILUO tag '-') will be ignored during training.\n",
      "  gold = GoldParse(doc, **gold)\n",
      "c:\\desktop file\\job_counselor\\venv\\lib\\site-packages\\spacy\\language.py:482: UserWarning: [W030] Some entities could not be aligned in the text \"Kandrapu Reddy Senior Travel Operations (Domestic,...\" with entities \"[[4232, 4330, 'Skills'], [4058, 4101, 'Degree'], [...\". Use `spacy.gold.biluo_tags_from_offsets(nlp.make_doc(text), entities)` to check the alignment. Misaligned entities (with BILUO tag '-') will be ignored during training.\n",
      "  gold = GoldParse(doc, **gold)\n",
      "c:\\desktop file\\job_counselor\\venv\\lib\\site-packages\\spacy\\language.py:482: UserWarning: [W030] Some entities could not be aligned in the text \"Yathishwaran P Maximo Consultant - Infosys Limited...\" with entities \"[[19523, 19683, 'Skills'], [19377, 19479, 'Skills'...\". Use `spacy.gold.biluo_tags_from_offsets(nlp.make_doc(text), entities)` to check the alignment. Misaligned entities (with BILUO tag '-') will be ignored during training.\n",
      "  gold = GoldParse(doc, **gold)\n",
      "c:\\desktop file\\job_counselor\\venv\\lib\\site-packages\\spacy\\language.py:482: UserWarning: [W030] Some entities could not be aligned in the text \"Laya A Cluster HR Manager - Velammal New  Chennai,...\" with entities \"[[3760, 4638, 'Skills'], [3727, 3742, 'College Nam...\". Use `spacy.gold.biluo_tags_from_offsets(nlp.make_doc(text), entities)` to check the alignment. Misaligned entities (with BILUO tag '-') will be ignored during training.\n",
      "  gold = GoldParse(doc, **gold)\n",
      "c:\\desktop file\\job_counselor\\venv\\lib\\site-packages\\spacy\\language.py:482: UserWarning: [W030] Some entities could not be aligned in the text \"Madhava Konjeti HR Executive  Bengaluru, Karnataka...\" with entities \"[[1818, 1892, 'Skills'], [1761, 1765, 'Graduation ...\". Use `spacy.gold.biluo_tags_from_offsets(nlp.make_doc(text), entities)` to check the alignment. Misaligned entities (with BILUO tag '-') will be ignored during training.\n",
      "  gold = GoldParse(doc, **gold)\n",
      "c:\\desktop file\\job_counselor\\venv\\lib\\site-packages\\spacy\\language.py:482: UserWarning: [W030] Some entities could not be aligned in the text \"Mayank Shukla Infosys group as a Test Analyst - In...\" with entities \"[[2348, 3131, 'Skills'], [2324, 2328, 'Graduation ...\". Use `spacy.gold.biluo_tags_from_offsets(nlp.make_doc(text), entities)` to check the alignment. Misaligned entities (with BILUO tag '-') will be ignored during training.\n",
      "  gold = GoldParse(doc, **gold)\n",
      "c:\\desktop file\\job_counselor\\venv\\lib\\site-packages\\spacy\\language.py:482: UserWarning: [W030] Some entities could not be aligned in the text \"Madhuri Sripathi Banglore, Karnataka, Karnataka - ...\" with entities \"[[4563, 4746, 'Skills'], [4538, 4551, 'College Nam...\". Use `spacy.gold.biluo_tags_from_offsets(nlp.make_doc(text), entities)` to check the alignment. Misaligned entities (with BILUO tag '-') will be ignored during training.\n",
      "  gold = GoldParse(doc, **gold)\n",
      "c:\\desktop file\\job_counselor\\venv\\lib\\site-packages\\spacy\\language.py:482: UserWarning: [W030] Some entities could not be aligned in the text \"Abdul B Arabic Language supporter (Content Analyst...\" with entities \"[[2349, 2471, 'Skills'], [2331, 2340, 'Degree'], [...\". Use `spacy.gold.biluo_tags_from_offsets(nlp.make_doc(text), entities)` to check the alignment. Misaligned entities (with BILUO tag '-') will be ignored during training.\n",
      "  gold = GoldParse(doc, **gold)\n",
      "c:\\desktop file\\job_counselor\\venv\\lib\\site-packages\\spacy\\language.py:482: UserWarning: [W030] Some entities could not be aligned in the text \"Sohan Dhakad Shivpuri, Madhya Pradesh - Email me o...\" with entities \"[[870, 893, 'Skills'], [794, 810, 'College Name'],...\". Use `spacy.gold.biluo_tags_from_offsets(nlp.make_doc(text), entities)` to check the alignment. Misaligned entities (with BILUO tag '-') will be ignored during training.\n",
      "  gold = GoldParse(doc, **gold)\n",
      "c:\\desktop file\\job_counselor\\venv\\lib\\site-packages\\spacy\\language.py:482: UserWarning: [W030] Some entities could not be aligned in the text \"Krishna Prasad Patna, Bihar - Email me on Indeed: ...\" with entities \"[[283, 327, 'Email Address'], [257, 262, 'Location...\". Use `spacy.gold.biluo_tags_from_offsets(nlp.make_doc(text), entities)` to check the alignment. Misaligned entities (with BILUO tag '-') will be ignored during training.\n",
      "  gold = GoldParse(doc, **gold)\n",
      "c:\\desktop file\\job_counselor\\venv\\lib\\site-packages\\spacy\\language.py:482: UserWarning: [W030] Some entities could not be aligned in the text \"Paul Rajiv Secunderabad, Andhra Pradesh - Email me...\" with entities \"[[4729, 4733, 'Graduation Year'], [2634, 2638, 'Gr...\". Use `spacy.gold.biluo_tags_from_offsets(nlp.make_doc(text), entities)` to check the alignment. Misaligned entities (with BILUO tag '-') will be ignored during training.\n",
      "  gold = GoldParse(doc, **gold)\n",
      "c:\\desktop file\\job_counselor\\venv\\lib\\site-packages\\spacy\\language.py:482: UserWarning: [W030] Some entities could not be aligned in the text \"Ravi Shivgond Bidar, Karnataka - Email me on Indee...\" with entities \"[[1341, 1384, 'Email Address'], [1131, 1136, 'Loca...\". Use `spacy.gold.biluo_tags_from_offsets(nlp.make_doc(text), entities)` to check the alignment. Misaligned entities (with BILUO tag '-') will be ignored during training.\n",
      "  gold = GoldParse(doc, **gold)\n",
      "c:\\desktop file\\job_counselor\\venv\\lib\\site-packages\\spacy\\language.py:482: UserWarning: [W030] Some entities could not be aligned in the text \"Ramya. P Hyderabad, Telangana - Email me on Indeed...\" with entities \"[[4542, 4549, 'Skills'], [4178, 4187, 'Skills'], [...\". Use `spacy.gold.biluo_tags_from_offsets(nlp.make_doc(text), entities)` to check the alignment. Misaligned entities (with BILUO tag '-') will be ignored during training.\n",
      "  gold = GoldParse(doc, **gold)\n",
      "c:\\desktop file\\job_counselor\\venv\\lib\\site-packages\\spacy\\language.py:482: UserWarning: [W030] Some entities could not be aligned in the text \"Navas Koya Test Engineer  Mangalore, Karnataka - E...\" with entities \"[[2110, 2404, 'Skills'], [2055, 2064, 'Location'],...\". Use `spacy.gold.biluo_tags_from_offsets(nlp.make_doc(text), entities)` to check the alignment. Misaligned entities (with BILUO tag '-') will be ignored during training.\n",
      "  gold = GoldParse(doc, **gold)\n",
      "c:\\desktop file\\job_counselor\\venv\\lib\\site-packages\\spacy\\language.py:482: UserWarning: [W030] Some entities could not be aligned in the text \"Mohammed Murtuza Major Incident Manager / Escalati...\" with entities \"[[7924, 8039, 'Skills'], [7872, 7891, 'College Nam...\". Use `spacy.gold.biluo_tags_from_offsets(nlp.make_doc(text), entities)` to check the alignment. Misaligned entities (with BILUO tag '-') will be ignored during training.\n",
      "  gold = GoldParse(doc, **gold)\n",
      "c:\\desktop file\\job_counselor\\venv\\lib\\site-packages\\spacy\\language.py:482: UserWarning: [W030] Some entities could not be aligned in the text \"Gunjan Nayyar Hoshiarpur, Punjab - Email me on Ind...\" with entities \"[[1234, 1277, 'Email Address'], [1146, 1150, 'Grad...\". Use `spacy.gold.biluo_tags_from_offsets(nlp.make_doc(text), entities)` to check the alignment. Misaligned entities (with BILUO tag '-') will be ignored during training.\n",
      "  gold = GoldParse(doc, **gold)\n",
      "c:\\desktop file\\job_counselor\\venv\\lib\\site-packages\\spacy\\language.py:482: UserWarning: [W030] Some entities could not be aligned in the text \"Asha Subbaiah (Microsoft Partner Readiness Operati...\" with entities \"[[3345, 3380, 'College Name'], [3322, 3343, 'Degre...\". Use `spacy.gold.biluo_tags_from_offsets(nlp.make_doc(text), entities)` to check the alignment. Misaligned entities (with BILUO tag '-') will be ignored during training.\n",
      "  gold = GoldParse(doc, **gold)\n",
      "c:\\desktop file\\job_counselor\\venv\\lib\\site-packages\\spacy\\language.py:482: UserWarning: [W030] Some entities could not be aligned in the text \"Shaik Tazuddin Senior Process Executive - STAR Ind...\" with entities \"[[2877, 3031, 'Skills'], [2728, 2742, 'College Nam...\". Use `spacy.gold.biluo_tags_from_offsets(nlp.make_doc(text), entities)` to check the alignment. Misaligned entities (with BILUO tag '-') will be ignored during training.\n",
      "  gold = GoldParse(doc, **gold)\n",
      "c:\\desktop file\\job_counselor\\venv\\lib\\site-packages\\spacy\\language.py:482: UserWarning: [W030] Some entities could not be aligned in the text \"Hartej Kathuria Data Analyst Intern - Oracle Retai...\" with entities \"[[2247, 2573, 'Skills'], [1435, 1480, 'Email Addre...\". Use `spacy.gold.biluo_tags_from_offsets(nlp.make_doc(text), entities)` to check the alignment. Misaligned entities (with BILUO tag '-') will be ignored during training.\n",
      "  gold = GoldParse(doc, **gold)\n",
      "c:\\desktop file\\job_counselor\\venv\\lib\\site-packages\\spacy\\language.py:482: UserWarning: [W030] Some entities could not be aligned in the text \"Zaheer Uddin Technical Project Manager  Hyderabad,...\" with entities \"[[4901, 4909, 'Location'], [4843, 4861, 'College N...\". Use `spacy.gold.biluo_tags_from_offsets(nlp.make_doc(text), entities)` to check the alignment. Misaligned entities (with BILUO tag '-') will be ignored during training.\n",
      "  gold = GoldParse(doc, **gold)\n",
      "c:\\desktop file\\job_counselor\\venv\\lib\\site-packages\\spacy\\language.py:482: UserWarning: [W030] Some entities could not be aligned in the text \"Shraddha Achar Mathura, Uttar Pradesh - Email me o...\" with entities \"[[975, 1020, 'Skills'], [814, 843, 'College Name']...\". Use `spacy.gold.biluo_tags_from_offsets(nlp.make_doc(text), entities)` to check the alignment. Misaligned entities (with BILUO tag '-') will be ignored during training.\n",
      "  gold = GoldParse(doc, **gold)\n",
      "c:\\desktop file\\job_counselor\\venv\\lib\\site-packages\\spacy\\language.py:482: UserWarning: [W030] Some entities could not be aligned in the text \"Jyotirbindu Patnaik Associate consultant@SAP labs ...\" with entities \"[[3052, 3067, 'Skills'], [2993, 3016, 'College Nam...\". Use `spacy.gold.biluo_tags_from_offsets(nlp.make_doc(text), entities)` to check the alignment. Misaligned entities (with BILUO tag '-') will be ignored during training.\n",
      "  gold = GoldParse(doc, **gold)\n",
      "c:\\desktop file\\job_counselor\\venv\\lib\\site-packages\\spacy\\language.py:482: UserWarning: [W030] Some entities could not be aligned in the text \"Siddhartha Chetri 7 years of experience in IT Netw...\" with entities \"[[5471, 5838, 'Skills'], [5457, 5461, 'Graduation ...\". Use `spacy.gold.biluo_tags_from_offsets(nlp.make_doc(text), entities)` to check the alignment. Misaligned entities (with BILUO tag '-') will be ignored during training.\n",
      "  gold = GoldParse(doc, **gold)\n",
      "c:\\desktop file\\job_counselor\\venv\\lib\\site-packages\\spacy\\language.py:482: UserWarning: [W030] Some entities could not be aligned in the text \"Mohini Gupta Server Support Engineer  Gurgaon, Har...\" with entities \"[[2326, 2333, 'Location'], [1821, 2095, 'Skills'],...\". Use `spacy.gold.biluo_tags_from_offsets(nlp.make_doc(text), entities)` to check the alignment. Misaligned entities (with BILUO tag '-') will be ignored during training.\n",
      "  gold = GoldParse(doc, **gold)\n",
      "c:\\desktop file\\job_counselor\\venv\\lib\\site-packages\\spacy\\language.py:482: UserWarning: [W030] Some entities could not be aligned in the text \"Pawan Nag Microsoft Certified System Engineer  Del...\" with entities \"[[523, 562, 'Email Address'], [500, 509, 'Name'], ...\". Use `spacy.gold.biluo_tags_from_offsets(nlp.make_doc(text), entities)` to check the alignment. Misaligned entities (with BILUO tag '-') will be ignored during training.\n",
      "  gold = GoldParse(doc, **gold)\n",
      "c:\\desktop file\\job_counselor\\venv\\lib\\site-packages\\spacy\\language.py:482: UserWarning: [W030] Some entities could not be aligned in the text \"Angad Waghmare Pune, Maharashtra - Email me on Ind...\" with entities \"[[3878, 3937, 'Degree'], [3111, 3846, 'Skills'], [...\". Use `spacy.gold.biluo_tags_from_offsets(nlp.make_doc(text), entities)` to check the alignment. Misaligned entities (with BILUO tag '-') will be ignored during training.\n",
      "  gold = GoldParse(doc, **gold)\n",
      "c:\\desktop file\\job_counselor\\venv\\lib\\site-packages\\spacy\\language.py:482: UserWarning: [W030] Some entities could not be aligned in the text \"Debasish Dasgupta Trainer-Finacle-Core Banking Sol...\" with entities \"[[5840, 5847, 'Companies worked at'], [2090, 2137,...\". Use `spacy.gold.biluo_tags_from_offsets(nlp.make_doc(text), entities)` to check the alignment. Misaligned entities (with BILUO tag '-') will be ignored during training.\n",
      "  gold = GoldParse(doc, **gold)\n",
      "c:\\desktop file\\job_counselor\\venv\\lib\\site-packages\\spacy\\language.py:482: UserWarning: [W030] Some entities could not be aligned in the text \"Srinivas VO Sr. Test Manager  Mumbai, Maharashtra ...\" with entities \"[[11201, 11408, 'Skills'], [11172, 11191, 'College...\". Use `spacy.gold.biluo_tags_from_offsets(nlp.make_doc(text), entities)` to check the alignment. Misaligned entities (with BILUO tag '-') will be ignored during training.\n",
      "  gold = GoldParse(doc, **gold)\n",
      "c:\\desktop file\\job_counselor\\venv\\lib\\site-packages\\spacy\\language.py:482: UserWarning: [W030] Some entities could not be aligned in the text \"Sanand Pal SQL and MSBI Developer with experience ...\" with entities \"[[3056, 3090, 'Skills'], [3042, 3046, 'Graduation ...\". Use `spacy.gold.biluo_tags_from_offsets(nlp.make_doc(text), entities)` to check the alignment. Misaligned entities (with BILUO tag '-') will be ignored during training.\n",
      "  gold = GoldParse(doc, **gold)\n",
      "c:\\desktop file\\job_counselor\\venv\\lib\\site-packages\\spacy\\language.py:482: UserWarning: [W030] Some entities could not be aligned in the text \"Puneet Singh Associate Software Engineer  Bengalur...\" with entities \"[[990, 1007, 'Skills'], [952, 968, 'Skills'], [919...\". Use `spacy.gold.biluo_tags_from_offsets(nlp.make_doc(text), entities)` to check the alignment. Misaligned entities (with BILUO tag '-') will be ignored during training.\n",
      "  gold = GoldParse(doc, **gold)\n",
      "c:\\desktop file\\job_counselor\\venv\\lib\\site-packages\\spacy\\language.py:482: UserWarning: [W030] Some entities could not be aligned in the text \"Anurag Asthana Pune, Maharashtra - Email me on Ind...\" with entities \"[[7675, 7692, 'Years of Experience'], [7133, 7595,...\". Use `spacy.gold.biluo_tags_from_offsets(nlp.make_doc(text), entities)` to check the alignment. Misaligned entities (with BILUO tag '-') will be ignored during training.\n",
      "  gold = GoldParse(doc, **gold)\n",
      "c:\\desktop file\\job_counselor\\venv\\lib\\site-packages\\spacy\\language.py:482: UserWarning: [W030] Some entities could not be aligned in the text \"Palani S Senior Technology Support Executive at In...\" with entities \"[[3660, 3663, 'Graduation Year'], [3600, 3602, 'Gr...\". Use `spacy.gold.biluo_tags_from_offsets(nlp.make_doc(text), entities)` to check the alignment. Misaligned entities (with BILUO tag '-') will be ignored during training.\n",
      "  gold = GoldParse(doc, **gold)\n",
      "c:\\desktop file\\job_counselor\\venv\\lib\\site-packages\\spacy\\language.py:482: UserWarning: [W030] Some entities could not be aligned in the text \"Ganesh AlalaSundaram A Dev-Test Professional with ...\" with entities \"[[3321, 3376, 'Skills'], [3296, 3311, 'College Nam...\". Use `spacy.gold.biluo_tags_from_offsets(nlp.make_doc(text), entities)` to check the alignment. Misaligned entities (with BILUO tag '-') will be ignored during training.\n",
      "  gold = GoldParse(doc, **gold)\n",
      "c:\\desktop file\\job_counselor\\venv\\lib\\site-packages\\spacy\\language.py:482: UserWarning: [W030] Some entities could not be aligned in the text \"Raktim Podder 6+ Exp in banking operations and cre...\" with entities \"[[8800, 8927, 'Skills'], [8760, 8788, 'College Nam...\". Use `spacy.gold.biluo_tags_from_offsets(nlp.make_doc(text), entities)` to check the alignment. Misaligned entities (with BILUO tag '-') will be ignored during training.\n",
      "  gold = GoldParse(doc, **gold)\n",
      "c:\\desktop file\\job_counselor\\venv\\lib\\site-packages\\spacy\\language.py:482: UserWarning: [W030] Some entities could not be aligned in the text \"Ramesh HP CES ASSOCIATE CONSULTANT  Bangalore, Kar...\" with entities \"[[2669, 2944, 'Skills'], [2618, 2638, 'College Nam...\". Use `spacy.gold.biluo_tags_from_offsets(nlp.make_doc(text), entities)` to check the alignment. Misaligned entities (with BILUO tag '-') will be ignored during training.\n",
      "  gold = GoldParse(doc, **gold)\n",
      "c:\\desktop file\\job_counselor\\venv\\lib\\site-packages\\spacy\\language.py:482: UserWarning: [W030] Some entities could not be aligned in the text \"Suman Biswas SAP UI5 Lead, Native HANA Developer -...\" with entities \"[[5053, 5058, 'Companies worked at'], [5013, 5018,...\". Use `spacy.gold.biluo_tags_from_offsets(nlp.make_doc(text), entities)` to check the alignment. Misaligned entities (with BILUO tag '-') will be ignored during training.\n",
      "  gold = GoldParse(doc, **gold)\n",
      "c:\\desktop file\\job_counselor\\venv\\lib\\site-packages\\spacy\\language.py:482: UserWarning: [W030] Some entities could not be aligned in the text \"Puran Mal Jaipur, Rajasthan - Email me on Indeed: ...\" with entities \"[[194, 511, 'Skills'], [174, 183, 'Degree'], [127,...\". Use `spacy.gold.biluo_tags_from_offsets(nlp.make_doc(text), entities)` to check the alignment. Misaligned entities (with BILUO tag '-') will be ignored during training.\n",
      "  gold = GoldParse(doc, **gold)\n",
      "c:\\desktop file\\job_counselor\\venv\\lib\\site-packages\\spacy\\language.py:482: UserWarning: [W030] Some entities could not be aligned in the text \"Vineeth Vijayan \"Store Executive\" - Orange City Ho...\" with entities \"[[6994, 7350, 'Skills'], [6936, 6973, 'College Nam...\". Use `spacy.gold.biluo_tags_from_offsets(nlp.make_doc(text), entities)` to check the alignment. Misaligned entities (with BILUO tag '-') will be ignored during training.\n",
      "  gold = GoldParse(doc, **gold)\n",
      "c:\\desktop file\\job_counselor\\venv\\lib\\site-packages\\spacy\\language.py:482: UserWarning: [W030] Some entities could not be aligned in the text \"Praveen Bhaskar Program Manager (Software Delivery...\" with entities \"[[4459, 4959, 'Skills'], [4445, 4450, 'Designation...\". Use `spacy.gold.biluo_tags_from_offsets(nlp.make_doc(text), entities)` to check the alignment. Misaligned entities (with BILUO tag '-') will be ignored during training.\n",
      "  gold = GoldParse(doc, **gold)\n",
      "c:\\desktop file\\job_counselor\\venv\\lib\\site-packages\\spacy\\language.py:482: UserWarning: [W030] Some entities could not be aligned in the text \"Ashish Indoriya Sr. Systems Engineer at Infosys Li...\" with entities \"[[3828, 3931, 'Skills'], [3753, 3794, 'College Nam...\". Use `spacy.gold.biluo_tags_from_offsets(nlp.make_doc(text), entities)` to check the alignment. Misaligned entities (with BILUO tag '-') will be ignored during training.\n",
      "  gold = GoldParse(doc, **gold)\n",
      "c:\\desktop file\\job_counselor\\venv\\lib\\site-packages\\spacy\\language.py:482: UserWarning: [W030] Some entities could not be aligned in the text \"Avani Priya - Email me on Indeed: indeed.com/r/Ava...\" with entities \"[[368, 409, 'Email Address'], [314, 334, 'College ...\". Use `spacy.gold.biluo_tags_from_offsets(nlp.make_doc(text), entities)` to check the alignment. Misaligned entities (with BILUO tag '-') will be ignored during training.\n",
      "  gold = GoldParse(doc, **gold)\n",
      "c:\\desktop file\\job_counselor\\venv\\lib\\site-packages\\spacy\\language.py:482: UserWarning: [W030] Some entities could not be aligned in the text \"VARUN AHLUWALIA Quantitative Analyst  - Email me o...\" with entities \"[[773, 847, 'Skills'], [736, 740, 'Graduation Year...\". Use `spacy.gold.biluo_tags_from_offsets(nlp.make_doc(text), entities)` to check the alignment. Misaligned entities (with BILUO tag '-') will be ignored during training.\n",
      "  gold = GoldParse(doc, **gold)\n",
      "c:\\desktop file\\job_counselor\\venv\\lib\\site-packages\\spacy\\language.py:482: UserWarning: [W030] Some entities could not be aligned in the text \"Tejasri Gunnam Bengaluru, Karnataka - Email me on ...\" with entities \"[[3517, 3878, 'Skills'], [3387, 3481, 'Skills'], [...\". Use `spacy.gold.biluo_tags_from_offsets(nlp.make_doc(text), entities)` to check the alignment. Misaligned entities (with BILUO tag '-') will be ignored during training.\n",
      "  gold = GoldParse(doc, **gold)\n",
      "c:\\desktop file\\job_counselor\\venv\\lib\\site-packages\\spacy\\language.py:482: UserWarning: [W030] Some entities could not be aligned in the text \"Vinay Singhal New Delhi, Delhi - Email me on Indee...\" with entities \"[[937, 980, 'Email Address'], [580, 923, 'Skills']...\". Use `spacy.gold.biluo_tags_from_offsets(nlp.make_doc(text), entities)` to check the alignment. Misaligned entities (with BILUO tag '-') will be ignored during training.\n",
      "  gold = GoldParse(doc, **gold)\n",
      "c:\\desktop file\\job_counselor\\venv\\lib\\site-packages\\spacy\\language.py:482: UserWarning: [W030] Some entities could not be aligned in the text \"Sridevi H Bangalore, Karnataka - Email me on Indee...\" with entities \"[[2473, 2498, 'Designation'], [2030, 2037, 'Compan...\". Use `spacy.gold.biluo_tags_from_offsets(nlp.make_doc(text), entities)` to check the alignment. Misaligned entities (with BILUO tag '-') will be ignored during training.\n",
      "  gold = GoldParse(doc, **gold)\n",
      "c:\\desktop file\\job_counselor\\venv\\lib\\site-packages\\spacy\\language.py:482: UserWarning: [W030] Some entities could not be aligned in the text \"Sudaya Puranik Principal Engineer Technical Staff ...\" with entities \"[[2656, 2688, 'Skills'], [2586, 2626, 'College Nam...\". Use `spacy.gold.biluo_tags_from_offsets(nlp.make_doc(text), entities)` to check the alignment. Misaligned entities (with BILUO tag '-') will be ignored during training.\n",
      "  gold = GoldParse(doc, **gold)\n"
     ]
    },
    {
     "name": "stdout",
     "output_type": "stream",
     "text": [
      "{'ner': 16774.95193812403}\n",
      "Statring iteration 1\n",
      "{'ner': 13120.362489041969}\n",
      "Statring iteration 2\n",
      "{'ner': 12132.050194201596}\n",
      "Statring iteration 3\n",
      "{'ner': 8951.429815718193}\n",
      "Statring iteration 4\n",
      "{'ner': 8913.60806220894}\n",
      "Statring iteration 5\n",
      "{'ner': 6208.073826152139}\n",
      "Statring iteration 6\n",
      "{'ner': 6310.070250778226}\n",
      "Statring iteration 7\n",
      "{'ner': 5457.426921583212}\n",
      "Statring iteration 8\n",
      "{'ner': 5135.611555378932}\n",
      "Statring iteration 9\n",
      "{'ner': 5398.617797707489}\n"
     ]
    }
   ],
   "source": [
    "# Train the model\n",
    "train_model(train_data)"
   ]
  },
  {
   "cell_type": "code",
   "execution_count": 149,
   "metadata": {},
   "outputs": [],
   "source": [
    "# Save the model to disk\n",
    "nlp.to_disk('nlp_model')"
   ]
  },
  {
   "cell_type": "code",
   "execution_count": 150,
   "metadata": {},
   "outputs": [],
   "source": [
    "# Example of processing resumes\n",
    "nlp_model = spacy.load('nlp_model')"
   ]
  },
  {
   "cell_type": "code",
   "execution_count": 151,
   "metadata": {},
   "outputs": [
    {
     "name": "stdout",
     "output_type": "stream",
     "text": [
      "NAME                          - Gunjan Nayyar\n",
      "LOCATION                      - Hoshiarpur\n",
      "EMAIL ADDRESS                 - indeed.com/r/Gunjan-Nayyar/a5819ca6733a0f41\n",
      "DESIGNATION                   - Presently completed 6 months internship\n",
      "COMPANIES WORKED AT           - INFOSYS\n",
      "COMPANIES WORKED AT           - INFOSYS\n",
      "DESIGNATION                   - Member of Discipline Committee in ALGORYTHM\n",
      "GRADUATION YEAR               - 2016\n",
      "COLLEGE NAME                  - in College on National Blood Donation day on 17thNov.2016. • Member of Discipline Committee in ALGORYTHM\n",
      "GRADUATION YEAR               - 2014\n",
      "DEGREE                        - B. E. in CSE\n",
      "COLLEGE NAME                  - Chitkara University\n",
      "GRADUATION YEAR               - 2018\n",
      "GRADUATION YEAR               - 2014\n"
     ]
    }
   ],
   "source": [
    "doc = nlp_model(train_data[0][0])\n",
    "for ent in doc.ents:\n",
    "    print(f'{ent.label_.upper():{30}}- {ent.text}')"
   ]
  },
  {
   "cell_type": "code",
   "execution_count": 155,
   "metadata": {},
   "outputs": [
    {
     "name": "stdout",
     "output_type": "stream",
     "text": [
      "Education Bachelor of Technology- Artificial Intelligence And Data Science Jabalpur Engineering College 7.81 CGPA 09/2023 – 05/2025 Jabalpur, MP 12th Barfani Academy 92.4 % 04/2020 – 07/2021 Indore, MP Skills Python-Flask Machine learning Data cleaning and preprocessing SQL and Database Management Communication skills Data Analysis and visualization Natural language processing Exploratory Data Analysis (EDA) Statistical Analysis Fast Learner Projects Diamond Price Prediction The Diamond Price Prediction project focuses on leveraging machine learning techniques to predict the market  value of diamonds based on various intrinsic characteristics. The dataset used in this project includes features such  as carat weight, cut, color, clarity, and depth, among others. Diabetes Prediction This project focuses on developing a predictive model for diabetes detection using machine learning algorithms.  The project involves data preprocessing, feature selection, and the implementation of classification algorithms to  achieve accurate and reliable predictions. MNIST Digits Classification The MNIST Digit Classification is a fundamental undertaking in the field of computer vision and machine  learning, focusing on the recognition of handwritten digits from the MNIST dataset. This dataset comprises 28x28  pixel grayscale images of handwritten digits (0 through 9) and serves as a benchmark for developing and  evaluating image classification algorithms. Courses Data-Science-Masters PWskills 02/2023 – present 5G IOT Builder MP-FITT 01/2024 – present Python for Data Science and AI IBM 10/2022 Extra Curricular Activities Smart India Hackathon Participation Successfully participated in the prestigious Smart India Hackathon, a nationwide initiative aimed at solving real- world problems through innovative and technology-driven solutions. Played a pivotal role as the designated presenter for our team during the Smart India Hackathon. Effectively  communicated the team's solution, technical approach, and innovative features to a diverse audience, including  judges and fellow participants. Prashasti Gupta prashastigupta2002@gmail.com Jabalpur, India https://github.com/prashastigupta2004 8225805330 https://www.linkedin.com/in/prashasti-gupta- 6a3389229/ \n"
     ]
    }
   ],
   "source": [
    "import sys, fitz\n",
    "fname = input()\n",
    "doc = fitz.open(fname)\n",
    "text = \"\"\n",
    "for page in doc:\n",
    "    text = text + page.get_text()\n",
    "\n",
    "tx = \" \".join(text.split('\\n'))\n",
    "print(tx)"
   ]
  },
  {
   "cell_type": "code",
   "execution_count": 156,
   "metadata": {},
   "outputs": [
    {
     "name": "stdout",
     "output_type": "stream",
     "text": [
      "NAME                          - Education Bachelor\n",
      "DESIGNATION                   - Barfani Academy 92.4\n"
     ]
    }
   ],
   "source": [
    "doc = nlp_model(tx)\n",
    "for ent in doc.ents:\n",
    "    print(f'{ent.label_.upper():{30}}- {ent.text}')"
   ]
  },
  {
   "cell_type": "code",
   "execution_count": 157,
   "metadata": {},
   "outputs": [
    {
     "name": "stdout",
     "output_type": "stream",
     "text": [
      "Skills Python-Flask Machine learning Data cleaning and preprocessing SQL and Database Management Communication skills Data Analysis and visualization Natural language processing Exploratory Data Analysis (EDA) Statistical Analysis Fast Learner Projects Diamond Price Prediction The Diamond Price Prediction project focuses on leveraging machine learning techniques to predict the market  value of diamonds based on various intrinsic characteristics. The dataset used in this project includes features such  as carat weight, cut, color, clarity, and depth, among others. Diabetes Prediction This project focuses on developing a predictive model for diabetes detection using machine learning algorithms.  The project involves data preprocessing, feature selection, and the implementation of classification algorithms to  achieve accurate and reliable predictions. MNIST Digits Classification The MNIST Digit Classification is a fundamental undertaking in the field of computer vision and machine  learning, focusing on the recognition of handwritten digits from the MNIST dataset. This dataset comprises 28x28  pixel grayscale images of handwritten digits (0 through 9) and serves as a benchmark for developing and  evaluating image classification algorithms. Courses Data-Science-Masters PWskills 02/2023 – present 5G IOT Builder MP-FITT 01/2024 – present Python for Data Science and AI IBM 10/2022 Extra Curricular Activities Smart India Hackathon Participation Successfully participated in the prestigious Smart India Hackathon, a nationwide initiative aimed at solving real- world problems through innovative and technology-driven solutions. Played a pivotal role as the designated presenter for our team during the Smart India Hackathon. Effectively  communicated the team's solution, technical approach, and innovative features to a diverse audience, including  judges and fellow participants. Prashasti Gupta prashastigupta2002@gmail.com Jabalpur, India https://github.com/prashastigupta2004 8225805330 https://www.linkedin.com/in/prashasti-gupta- 6a3389229/\n"
     ]
    }
   ],
   "source": [
    "def extract_skills(text):\n",
    "    # Convert the text to lowercase for case-insensitive matching\n",
    "    lowercase_text = text.lower()\n",
    "    \n",
    "    # Define keywords that may indicate the start of the skills section\n",
    "    skill_keywords = [\"skills\", \"technical skills\", \"proficiency\", \"expertise\", \"competencies\"]\n",
    "    \n",
    "    # Find the index of the keyword that indicates the start of the skills section\n",
    "    start_index = None\n",
    "    for keyword in skill_keywords:\n",
    "        index = lowercase_text.find(keyword)\n",
    "        if index != -1:\n",
    "            start_index = index\n",
    "            break\n",
    "    \n",
    "    # If no keyword is found, return None\n",
    "    if start_index is None:\n",
    "        return None\n",
    "    \n",
    "    # Find the end of the skills section (assuming it ends at the next section)\n",
    "    end_index = lowercase_text.find(\"achievements\", start_index)\n",
    "    if end_index == -1:\n",
    "        end_index = len(text)\n",
    "    \n",
    "    # Extract the skills section\n",
    "    skills_section = text[start_index:end_index].strip()\n",
    "    \n",
    "    return skills_section\n",
    "\n",
    "# Example usage:\n",
    "resume_text = tx\n",
    "\n",
    "skills_section = extract_skills(resume_text)\n",
    "if skills_section:\n",
    "    print(skills_section)\n",
    "else:\n",
    "    print(\"Skills section not found.\")\n",
    "\n"
   ]
  },
  {
   "cell_type": "code",
   "execution_count": null,
   "metadata": {},
   "outputs": [],
   "source": []
  }
 ],
 "metadata": {
  "kernelspec": {
   "display_name": "Python 3",
   "language": "python",
   "name": "python3"
  },
  "language_info": {
   "codemirror_mode": {
    "name": "ipython",
    "version": 3
   },
   "file_extension": ".py",
   "mimetype": "text/x-python",
   "name": "python",
   "nbconvert_exporter": "python",
   "pygments_lexer": "ipython3",
   "version": "3.8.0"
  }
 },
 "nbformat": 4,
 "nbformat_minor": 2
}
