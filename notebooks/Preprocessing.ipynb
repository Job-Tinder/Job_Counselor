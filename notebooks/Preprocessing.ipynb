{
 "cells": [
  {
   "cell_type": "code",
   "execution_count": 1,
   "metadata": {},
   "outputs": [],
   "source": [
    "import pandas as pd \n",
    "import numpy as np"
   ]
  },
  {
   "cell_type": "code",
   "execution_count": 2,
   "metadata": {},
   "outputs": [
    {
     "data": {
      "text/html": [
       "<div>\n",
       "<style scoped>\n",
       "    .dataframe tbody tr th:only-of-type {\n",
       "        vertical-align: middle;\n",
       "    }\n",
       "\n",
       "    .dataframe tbody tr th {\n",
       "        vertical-align: top;\n",
       "    }\n",
       "\n",
       "    .dataframe thead th {\n",
       "        text-align: right;\n",
       "    }\n",
       "</style>\n",
       "<table border=\"1\" class=\"dataframe\">\n",
       "  <thead>\n",
       "    <tr style=\"text-align: right;\">\n",
       "      <th></th>\n",
       "      <th>Title</th>\n",
       "      <th>Company</th>\n",
       "      <th>Skills</th>\n",
       "      <th>Location</th>\n",
       "      <th>URL</th>\n",
       "    </tr>\n",
       "  </thead>\n",
       "  <tbody>\n",
       "    <tr>\n",
       "      <th>0</th>\n",
       "      <td>Data Scientist</td>\n",
       "      <td>TaskUs</td>\n",
       "      <td>Machine Learning,SQL, NoSQL,Python,AWS, Deep L...</td>\n",
       "      <td>Gurugram, Haryana</td>\n",
       "      <td>https://jobs.eu.humanly.io/jobs/dc0f3ab1-f2e6-...</td>\n",
       "    </tr>\n",
       "    <tr>\n",
       "      <th>1</th>\n",
       "      <td>Associate Data Scientist</td>\n",
       "      <td>Blazeclan Technologies</td>\n",
       "      <td>Data Analytics,EDA, Cloud Native Application d...</td>\n",
       "      <td>Pune, Maharashtra</td>\n",
       "      <td>https://in.indeed.com/jobs?q=associate+data+sc...</td>\n",
       "    </tr>\n",
       "    <tr>\n",
       "      <th>2</th>\n",
       "      <td>Data Science IC3</td>\n",
       "      <td>Microsoft</td>\n",
       "      <td>Statistical Analysis,Research Knowledge,Modeli...</td>\n",
       "      <td>Hyderabad, Telangana</td>\n",
       "      <td>https://jobs.careers.microsoft.com/us/en/job/1...</td>\n",
       "    </tr>\n",
       "    <tr>\n",
       "      <th>3</th>\n",
       "      <td>Inventory Planning Data Scientist Manager</td>\n",
       "      <td>Hewlett Packard</td>\n",
       "      <td>Data Pipeline Design, Development,Sales and Pr...</td>\n",
       "      <td>Bangalore, Karnataka</td>\n",
       "      <td>https://www.respondhr.com/135386773?source=Indeed</td>\n",
       "    </tr>\n",
       "    <tr>\n",
       "      <th>4</th>\n",
       "      <td>Manager_Lead_Data Scientist</td>\n",
       "      <td>Vodafone</td>\n",
       "      <td>Big Data,AWS,Diagnostic Models,machine learnin...</td>\n",
       "      <td>India</td>\n",
       "      <td>https://opportunities.vodafone.com/job/PUNE-Ma...</td>\n",
       "    </tr>\n",
       "  </tbody>\n",
       "</table>\n",
       "</div>"
      ],
      "text/plain": [
       "                                       Title                Company   \\\n",
       "0                             Data Scientist                  TaskUs   \n",
       "1                   Associate Data Scientist  Blazeclan Technologies   \n",
       "2                           Data Science IC3               Microsoft   \n",
       "3  Inventory Planning Data Scientist Manager         Hewlett Packard   \n",
       "4                Manager_Lead_Data Scientist                Vodafone   \n",
       "\n",
       "                                              Skills              Location  \\\n",
       "0  Machine Learning,SQL, NoSQL,Python,AWS, Deep L...     Gurugram, Haryana   \n",
       "1  Data Analytics,EDA, Cloud Native Application d...     Pune, Maharashtra   \n",
       "2  Statistical Analysis,Research Knowledge,Modeli...  Hyderabad, Telangana   \n",
       "3  Data Pipeline Design, Development,Sales and Pr...  Bangalore, Karnataka   \n",
       "4  Big Data,AWS,Diagnostic Models,machine learnin...                 India   \n",
       "\n",
       "                                                 URL  \n",
       "0  https://jobs.eu.humanly.io/jobs/dc0f3ab1-f2e6-...  \n",
       "1  https://in.indeed.com/jobs?q=associate+data+sc...  \n",
       "2  https://jobs.careers.microsoft.com/us/en/job/1...  \n",
       "3  https://www.respondhr.com/135386773?source=Indeed  \n",
       "4  https://opportunities.vodafone.com/job/PUNE-Ma...  "
      ]
     },
     "execution_count": 2,
     "metadata": {},
     "output_type": "execute_result"
    }
   ],
   "source": [
    "## data ingestion\n",
    "df=pd.read_csv('data/final_datasets.csv')\n",
    "df.head()"
   ]
  },
  {
   "cell_type": "code",
   "execution_count": 3,
   "metadata": {},
   "outputs": [
    {
     "data": {
      "text/plain": [
       "Title       0\n",
       "Company     0\n",
       "Skills      1\n",
       "Location    0\n",
       "URL         0\n",
       "dtype: int64"
      ]
     },
     "execution_count": 3,
     "metadata": {},
     "output_type": "execute_result"
    }
   ],
   "source": [
    "df.isnull().sum()"
   ]
  },
  {
   "cell_type": "code",
   "execution_count": 4,
   "metadata": {},
   "outputs": [
    {
     "name": "stdout",
     "output_type": "stream",
     "text": [
      "<class 'pandas.core.frame.DataFrame'>\n",
      "RangeIndex: 199 entries, 0 to 198\n",
      "Data columns (total 5 columns):\n",
      " #   Column    Non-Null Count  Dtype \n",
      "---  ------    --------------  ----- \n",
      " 0   Title     199 non-null    object\n",
      " 1   Company   199 non-null    object\n",
      " 2   Skills    198 non-null    object\n",
      " 3   Location  199 non-null    object\n",
      " 4   URL       199 non-null    object\n",
      "dtypes: object(5)\n",
      "memory usage: 7.9+ KB\n"
     ]
    }
   ],
   "source": [
    "df.info()"
   ]
  },
  {
   "cell_type": "code",
   "execution_count": 5,
   "metadata": {},
   "outputs": [
    {
     "data": {
      "text/plain": [
       "0"
      ]
     },
     "execution_count": 5,
     "metadata": {},
     "output_type": "execute_result"
    }
   ],
   "source": [
    "df.duplicated().sum()"
   ]
  },
  {
   "cell_type": "code",
   "execution_count": 6,
   "metadata": {},
   "outputs": [
    {
     "data": {
      "text/plain": [
       "(199, 5)"
      ]
     },
     "execution_count": 6,
     "metadata": {},
     "output_type": "execute_result"
    }
   ],
   "source": [
    "df.shape"
   ]
  },
  {
   "cell_type": "code",
   "execution_count": 7,
   "metadata": {},
   "outputs": [],
   "source": [
    "df.dropna(inplace=True)"
   ]
  },
  {
   "cell_type": "code",
   "execution_count": 8,
   "metadata": {},
   "outputs": [
    {
     "data": {
      "text/plain": [
       "(198, 5)"
      ]
     },
     "execution_count": 8,
     "metadata": {},
     "output_type": "execute_result"
    }
   ],
   "source": [
    "df.shape"
   ]
  },
  {
   "cell_type": "code",
   "execution_count": 9,
   "metadata": {},
   "outputs": [
    {
     "data": {
      "text/plain": [
       "Title\n",
       "Web Developer                                    17\n",
       "Data Analyst                                      8\n",
       "App Developer                                     8\n",
       "software engineer                                 7\n",
       "Software Developer                                6\n",
       "                                                 ..\n",
       "Senior Analyst- Global Analytics and Insights     1\n",
       "Lead Product Engineer - Machine Learning          1\n",
       "Data Scientist Engineer                           1\n",
       "Lead - BI Data Analyst                            1\n",
       "Software Engineer III, Full Stack, Google Ads     1\n",
       "Name: count, Length: 124, dtype: int64"
      ]
     },
     "execution_count": 9,
     "metadata": {},
     "output_type": "execute_result"
    }
   ],
   "source": [
    "df['Title'].value_counts()"
   ]
  },
  {
   "cell_type": "code",
   "execution_count": 10,
   "metadata": {},
   "outputs": [
    {
     "name": "stdout",
     "output_type": "stream",
     "text": [
      "                                             Title                Company   \\\n",
      "0                                   Data Scientist                  TaskUs   \n",
      "1                         Associate Data Scientist  Blazeclan Technologies   \n",
      "2                                 Data Science IC3               Microsoft   \n",
      "3        Inventory Planning Data Scientist Manager         Hewlett Packard   \n",
      "4                      Manager_Lead_Data Scientist                Vodafone   \n",
      "..                                             ...                     ...   \n",
      "194                          AI Research Scientist               mokSa.ai    \n",
      "195                            Lead Data Scientist             MakeMyTrip    \n",
      "196                               Sr Data Engineer  Warner Bros. Discovery   \n",
      "197                          Senior Data Scientist                  Simple   \n",
      "198  Software Engineer III, Full Stack, Google Ads                  Google   \n",
      "\n",
      "                                                Skills  \\\n",
      "0    machine learning,sql, nosql,python,aws, deep l...   \n",
      "1    data analytics,eda, cloud native application d...   \n",
      "2    statistical analysis,research knowledge,modeli...   \n",
      "3    data pipeline design, development,sales and pr...   \n",
      "4    big data,aws,diagnostic models,machine learnin...   \n",
      "..                                                 ...   \n",
      "194  artificial intelligence (ai),computer vision,d...   \n",
      "195  anomaly detection,data science,data analysis,m...   \n",
      "196  amazon kinesis,data analytics,database queries...   \n",
      "197  deep learning,keras,machine learning,natural l...   \n",
      "198  algorithms,back-end web development, data stru...   \n",
      "\n",
      "                        Location  \\\n",
      "0              Gurugram, Haryana   \n",
      "1              Pune, Maharashtra   \n",
      "2           Hyderabad, Telangana   \n",
      "3           Bangalore, Karnataka   \n",
      "4                          India   \n",
      "..                           ...   \n",
      "194  Hyderabad, Telangana, India   \n",
      "195  Bengaluru, Karnataka, India   \n",
      "196  Hyderabad, Telangana, India   \n",
      "197  Bengaluru, Karnataka, India   \n",
      "198  Bengaluru, Karnataka, India   \n",
      "\n",
      "                                                   URL  \n",
      "0    https://jobs.eu.humanly.io/jobs/dc0f3ab1-f2e6-...  \n",
      "1    https://in.indeed.com/jobs?q=associate+data+sc...  \n",
      "2    https://jobs.careers.microsoft.com/us/en/job/1...  \n",
      "3    https://www.respondhr.com/135386773?source=Indeed  \n",
      "4    https://opportunities.vodafone.com/job/PUNE-Ma...  \n",
      "..                                                 ...  \n",
      "194  https://www.linkedin.com/jobs/view/3853478499/...  \n",
      "195  https://www.linkedin.com/jobs/view/3844796688/...  \n",
      "196  https://www.linkedin.com/jobs/view/3832497773/...  \n",
      "197  https://www.linkedin.com/jobs/view/3847479158/...  \n",
      "198  https://www.linkedin.com/jobs/view/3838826351/...  \n",
      "\n",
      "[198 rows x 5 columns]\n"
     ]
    }
   ],
   "source": [
    "df['Skills'] = df['Skills'].str.lower()\n",
    "\n",
    "# Display the DataFrame to verify the changes\n",
    "print(df)"
   ]
  },
  {
   "cell_type": "code",
   "execution_count": 11,
   "metadata": {},
   "outputs": [
    {
     "name": "stdout",
     "output_type": "stream",
     "text": [
      "                                             Title                Company   \\\n",
      "0                                   Data Scientist                  TaskUs   \n",
      "1                         Associate Data Scientist  Blazeclan Technologies   \n",
      "2                                 Data Science IC3               Microsoft   \n",
      "3        Inventory Planning Data Scientist Manager         Hewlett Packard   \n",
      "4                      Manager_Lead_Data Scientist                Vodafone   \n",
      "..                                             ...                     ...   \n",
      "194                          AI Research Scientist               mokSa.ai    \n",
      "195                            Lead Data Scientist             MakeMyTrip    \n",
      "196                               Sr Data Engineer  Warner Bros. Discovery   \n",
      "197                          Senior Data Scientist                  Simple   \n",
      "198  Software Engineer III, Full Stack, Google Ads                  Google   \n",
      "\n",
      "                                                Skills  \\\n",
      "0    machine learning, sql, nosql, python, aws, dee...   \n",
      "1    data analytics, eda, cloud native application ...   \n",
      "2    statistical analysis, research knowledge, mode...   \n",
      "3    data pipeline design, development, sales and p...   \n",
      "4    big data, aws, diagnostic models, machine lear...   \n",
      "..                                                 ...   \n",
      "194  artificial intelligence (ai), computer vision,...   \n",
      "195  anomaly detection, data science, data analysis...   \n",
      "196  amazon kinesis, data analytics, database queri...   \n",
      "197  deep learning, keras, machine learning, natura...   \n",
      "198  algorithms, back-end web development, data str...   \n",
      "\n",
      "                        Location  \\\n",
      "0              Gurugram, Haryana   \n",
      "1              Pune, Maharashtra   \n",
      "2           Hyderabad, Telangana   \n",
      "3           Bangalore, Karnataka   \n",
      "4                          India   \n",
      "..                           ...   \n",
      "194  Hyderabad, Telangana, India   \n",
      "195  Bengaluru, Karnataka, India   \n",
      "196  Hyderabad, Telangana, India   \n",
      "197  Bengaluru, Karnataka, India   \n",
      "198  Bengaluru, Karnataka, India   \n",
      "\n",
      "                                                   URL  \n",
      "0    https://jobs.eu.humanly.io/jobs/dc0f3ab1-f2e6-...  \n",
      "1    https://in.indeed.com/jobs?q=associate+data+sc...  \n",
      "2    https://jobs.careers.microsoft.com/us/en/job/1...  \n",
      "3    https://www.respondhr.com/135386773?source=Indeed  \n",
      "4    https://opportunities.vodafone.com/job/PUNE-Ma...  \n",
      "..                                                 ...  \n",
      "194  https://www.linkedin.com/jobs/view/3853478499/...  \n",
      "195  https://www.linkedin.com/jobs/view/3844796688/...  \n",
      "196  https://www.linkedin.com/jobs/view/3832497773/...  \n",
      "197  https://www.linkedin.com/jobs/view/3847479158/...  \n",
      "198  https://www.linkedin.com/jobs/view/3838826351/...  \n",
      "\n",
      "[198 rows x 5 columns]\n"
     ]
    }
   ],
   "source": [
    "# Define a dictionary mapping abbreviated forms to full forms\n",
    "abbreviation_mapping = {\n",
    "    \"ml\": \"machine learning\",\n",
    "    \"dl\": \"deep learning\",\n",
    "    \"ai\": \"artificial intelligence\"\n",
    "    # Add more mappings as needed\n",
    "}\n",
    "\n",
    "# Function to convert abbreviations to full forms within a skill\n",
    "def convert_abbreviations_to_full_forms(skill):\n",
    "    # Split the skill into individual words\n",
    "    words = skill.split(',')\n",
    "    \n",
    "    # Iterate through each word and replace the abbreviation with the full form\n",
    "    for i, word in enumerate(words):\n",
    "        # Get the lowercase word to match with the abbreviation mapping\n",
    "        lower_word = word.strip().lower()\n",
    "        full_form = abbreviation_mapping.get(lower_word, word)  # Get the full form or keep the word unchanged\n",
    "        words[i] = full_form.strip()\n",
    "    \n",
    "    # Join the words back together to form the updated skill\n",
    "    updated_skill = ', '.join(words)\n",
    "    return updated_skill\n",
    "\n",
    "# Apply abbreviation expansion to the 'Skills' column\n",
    "df['Skills'] = df['Skills'].apply(convert_abbreviations_to_full_forms)\n",
    "\n",
    "# Convert skills in the 'Skills' column to lowercase\n",
    "df['Skills'] = df['Skills'].str.lower()\n",
    "\n",
    "# Display the DataFrame to verify the changes\n",
    "print(df)\n"
   ]
  },
  {
   "cell_type": "code",
   "execution_count": 12,
   "metadata": {},
   "outputs": [
    {
     "data": {
      "text/html": [
       "<div>\n",
       "<style scoped>\n",
       "    .dataframe tbody tr th:only-of-type {\n",
       "        vertical-align: middle;\n",
       "    }\n",
       "\n",
       "    .dataframe tbody tr th {\n",
       "        vertical-align: top;\n",
       "    }\n",
       "\n",
       "    .dataframe thead th {\n",
       "        text-align: right;\n",
       "    }\n",
       "</style>\n",
       "<table border=\"1\" class=\"dataframe\">\n",
       "  <thead>\n",
       "    <tr style=\"text-align: right;\">\n",
       "      <th></th>\n",
       "      <th>Title</th>\n",
       "      <th>Company</th>\n",
       "      <th>Skills</th>\n",
       "      <th>Location</th>\n",
       "      <th>URL</th>\n",
       "    </tr>\n",
       "  </thead>\n",
       "  <tbody>\n",
       "    <tr>\n",
       "      <th>0</th>\n",
       "      <td>Data Scientist</td>\n",
       "      <td>TaskUs</td>\n",
       "      <td>machine learning, sql, nosql, python, aws, dee...</td>\n",
       "      <td>Gurugram, Haryana</td>\n",
       "      <td>https://jobs.eu.humanly.io/jobs/dc0f3ab1-f2e6-...</td>\n",
       "    </tr>\n",
       "    <tr>\n",
       "      <th>1</th>\n",
       "      <td>Associate Data Scientist</td>\n",
       "      <td>Blazeclan Technologies</td>\n",
       "      <td>data analytics, eda, cloud native application ...</td>\n",
       "      <td>Pune, Maharashtra</td>\n",
       "      <td>https://in.indeed.com/jobs?q=associate+data+sc...</td>\n",
       "    </tr>\n",
       "    <tr>\n",
       "      <th>2</th>\n",
       "      <td>Data Science IC3</td>\n",
       "      <td>Microsoft</td>\n",
       "      <td>statistical analysis, research knowledge, mode...</td>\n",
       "      <td>Hyderabad, Telangana</td>\n",
       "      <td>https://jobs.careers.microsoft.com/us/en/job/1...</td>\n",
       "    </tr>\n",
       "    <tr>\n",
       "      <th>3</th>\n",
       "      <td>Inventory Planning Data Scientist Manager</td>\n",
       "      <td>Hewlett Packard</td>\n",
       "      <td>data pipeline design, development, sales and p...</td>\n",
       "      <td>Bangalore, Karnataka</td>\n",
       "      <td>https://www.respondhr.com/135386773?source=Indeed</td>\n",
       "    </tr>\n",
       "    <tr>\n",
       "      <th>4</th>\n",
       "      <td>Manager_Lead_Data Scientist</td>\n",
       "      <td>Vodafone</td>\n",
       "      <td>big data, aws, diagnostic models, machine lear...</td>\n",
       "      <td>India</td>\n",
       "      <td>https://opportunities.vodafone.com/job/PUNE-Ma...</td>\n",
       "    </tr>\n",
       "  </tbody>\n",
       "</table>\n",
       "</div>"
      ],
      "text/plain": [
       "                                       Title                Company   \\\n",
       "0                             Data Scientist                  TaskUs   \n",
       "1                   Associate Data Scientist  Blazeclan Technologies   \n",
       "2                           Data Science IC3               Microsoft   \n",
       "3  Inventory Planning Data Scientist Manager         Hewlett Packard   \n",
       "4                Manager_Lead_Data Scientist                Vodafone   \n",
       "\n",
       "                                              Skills              Location  \\\n",
       "0  machine learning, sql, nosql, python, aws, dee...     Gurugram, Haryana   \n",
       "1  data analytics, eda, cloud native application ...     Pune, Maharashtra   \n",
       "2  statistical analysis, research knowledge, mode...  Hyderabad, Telangana   \n",
       "3  data pipeline design, development, sales and p...  Bangalore, Karnataka   \n",
       "4  big data, aws, diagnostic models, machine lear...                 India   \n",
       "\n",
       "                                                 URL  \n",
       "0  https://jobs.eu.humanly.io/jobs/dc0f3ab1-f2e6-...  \n",
       "1  https://in.indeed.com/jobs?q=associate+data+sc...  \n",
       "2  https://jobs.careers.microsoft.com/us/en/job/1...  \n",
       "3  https://www.respondhr.com/135386773?source=Indeed  \n",
       "4  https://opportunities.vodafone.com/job/PUNE-Ma...  "
      ]
     },
     "execution_count": 12,
     "metadata": {},
     "output_type": "execute_result"
    }
   ],
   "source": [
    "df.head(5)"
   ]
  },
  {
   "cell_type": "code",
   "execution_count": 16,
   "metadata": {},
   "outputs": [
    {
     "name": "stdout",
     "output_type": "stream",
     "text": [
      "Matching job URLs:\n",
      "https://jobs.thermofisher.com/global/en/job/TFSCGLOBALR01233104EXTERNALENGLOBAL/Senior-Data-Scientist?codes=INDEED\n",
      "https://in.indeed.com/jobs?q=data+scientist&fromage=1&vjk=1fa7b2f94cac8d6a\n",
      "https://in.indeed.com/jobs?q=data+scientist&fromage=1&vjk=8c8c1749310e9a7e\n",
      "https://in.indeed.com/jobs?q=data+analytics&fromage=1&vjk=ca71cb469f9c34a4\n",
      "https://careers.irissoftware.com/job/Noida-React-Node-AWS-Senior-Engineer-UP/23546544/\n",
      "https://jobs.webhelp.com/job/phn-phn-1445068/?utm_source=Indeed&utm_medium=organic&utm_campaign=Indeed\n",
      "https://in.indeed.com/jobs?q=backend+developer&fromage=1&vjk=80cf7c0f5e69e9ad\n",
      "https://jobs.harman.com/en_US/careers/JobDetail/Data-Scientist-Engineer/19553?jobPipeline=Indeed\n",
      "https://jobs.concentrix.com/global/en/job/CONCGLOBALR1483811EXTERNALENGLOBAL/Senior-Analyst-Global-Analytics-and-Insights?utm_source=indeed&utm_medium=phenom-feeds\n",
      "https://unstop.com/competitions/926926/register\n",
      "https://unstop.com/internships/cloud-support-engineer-internship-adfolks-925854\n"
     ]
    }
   ],
   "source": [
    "def match_skills_with_jobs(extracted_skills, job_dataset):\n",
    "    matching_urls = []\n",
    "\n",
    "    # Iterate through each job posting in the dataset\n",
    "    for index, job in job_dataset.iterrows():\n",
    "        job_skills = job['Skills']  # Extract skills from the 'Skills' column\n",
    "        \n",
    "        # Check if job_skills is a string, otherwise continue to the next row\n",
    "        if not isinstance(job_skills, str):\n",
    "            continue\n",
    "\n",
    "        # Count the number of matching skills between the resume and job posting\n",
    "        num_matching_skills = sum(skill in job_skills for skill in extracted_skills)\n",
    "\n",
    "        # If at least two skills match, consider the job relevant and add its URL to the list\n",
    "        if num_matching_skills >= 2:\n",
    "            matching_urls.append(job['URL'])\n",
    "\n",
    "    return matching_urls\n",
    "\n",
    "# Example usage:\n",
    "extracted_skills = ['python', 'communication skills']\n",
    "matching_urls = match_skills_with_jobs(extracted_skills, df)\n",
    "\n",
    "# Print each URL on a separate line\n",
    "print(\"Matching job URLs:\")\n",
    "for url in matching_urls:\n",
    "    print(url)\n",
    "\n"
   ]
  },
  {
   "cell_type": "code",
   "execution_count": null,
   "metadata": {},
   "outputs": [],
   "source": []
  }
 ],
 "metadata": {
  "kernelspec": {
   "display_name": "Python 3",
   "language": "python",
   "name": "python3"
  },
  "language_info": {
   "codemirror_mode": {
    "name": "ipython",
    "version": 3
   },
   "file_extension": ".py",
   "mimetype": "text/x-python",
   "name": "python",
   "nbconvert_exporter": "python",
   "pygments_lexer": "ipython3",
   "version": "3.8.0"
  }
 },
 "nbformat": 4,
 "nbformat_minor": 2
}
